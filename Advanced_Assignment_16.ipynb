{
 "cells": [
  {
   "cell_type": "markdown",
   "id": "7a5ca72b",
   "metadata": {},
   "source": [
    "__Q1. What is the benefit of regular expressions?__"
   ]
  },
  {
   "cell_type": "markdown",
   "id": "ec9d0b1a",
   "metadata": {},
   "source": [
    "__Ans:__ Regular Expressions, also known as __regex__ or __regexp__, are used to match strings of text such as particular characters, words, or patterns of characters. It means that we can match and extract any string pattern from the text with the help of regular expressions. it helps the programmers to Write less and cleaner code. it also avoids multiple use of if/else statements. Regular expressions are a powerful feature of any language and solve a particular class of problems extraordinarily well. They can be used to validate user input, extract relevant data from a string, or even modify a string based on its contents.\n",
    "\n",
    "Python's regular expression library is called \"re\" and is based on Perl's regular expression engine, which is pretty much an industry standard now."
   ]
  },
  {
   "cell_type": "markdown",
   "id": "7f5b9c7c",
   "metadata": {},
   "source": [
    "__Q2. Describe the difference between the effects of &quot;(ab)c+&quot; and &quot;a(bc)+.&quot; Which of these, if any, is the\n",
    "unqualified pattern &quot;abc+&quot;?__"
   ]
  },
  {
   "cell_type": "markdown",
   "id": "f1787fb9",
   "metadata": {},
   "source": [
    "__Ans:__ Both __(ab)c+__ and __a(bc)+.__ are valid patterns. The difference between both these patterns is that in __(ab)c+__ __ab__ is a group whereas in __a(bc)+__ __bc__ is a group. Capturing groups are a way to treat multiple characters as a single unit. They are created by placing the characters to be grouped inside a set of parentheses"
   ]
  },
  {
   "cell_type": "markdown",
   "id": "dec0d3a9",
   "metadata": {},
   "source": [
    "\n",
    "__Q3. How much do you need to use the following sentence while using regular expressions?__\n",
    "\n",
    "import re\n"
   ]
  },
  {
   "cell_type": "markdown",
   "id": "b2081f3c",
   "metadata": {},
   "source": [
    "__Ans:__ __import re__ statement always has to be imported before using regular expressions. In a program, we need to import this once so that we can use Regular Expressions subsequently."
   ]
  },
  {
   "cell_type": "markdown",
   "id": "322c54ef",
   "metadata": {},
   "source": [
    "\n",
    "__Q4. Which characters have special significance in square brackets when expressing a range, and\n",
    "under what circumstances?__"
   ]
  },
  {
   "cell_type": "markdown",
   "id": "df91adde",
   "metadata": {},
   "source": [
    "__Ans:__ The Characters __.__,__*__,__?__,__^__,or,__()__, have a special signiface when used with square brackets. They need not be be explicitly escaped by \\ as in case of pattern texts in a raw string. Range in Regular Expressions Ranges of characters can be indicated by giving two characters and separating them by a ‘-‘, for example [a-z] will match any lowercase ASCII letter, [0-5][0-9] will match all the two-digits numbers from 00 to 59."
   ]
  },
  {
   "cell_type": "markdown",
   "id": "e1903249",
   "metadata": {},
   "source": [
    "\n",
    "\n",
    "__Q5. How does compiling a regular-expression object benefit you?__\n",
    "\n"
   ]
  },
  {
   "cell_type": "markdown",
   "id": "0247d6d7",
   "metadata": {},
   "source": [
    "__Ans:__ We can Combine a regular expression pattern into pattern Objects which can be used for pattern matching. It also helps to search a pattern again without rewriting it.\n",
    "\n"
   ]
  },
  {
   "cell_type": "markdown",
   "id": "e2dc7a6e",
   "metadata": {},
   "source": [
    "__Q6. What are some examples of how to use the match object returned by re.match and re.search?__\n"
   ]
  },
  {
   "cell_type": "markdown",
   "id": "b40e659b",
   "metadata": {},
   "source": [
    "__Ans:__ The __re.search()__ and __re.match()__ both are functions of re module in python. These functions are very efficient and fast for searching in strings. The function searches for some substring in a string and returns a match object if found, else it returns none.\n",
    "\n",
    "There is a difference between the use of both functions. Both return the first match of a substring found in the string, but __re.match()__ searches only from the beginning of the string and return match object if found. But if a match of substring is found somewhere in the middle of the string, it returns none.\n",
    "\n",
    "Where as __re.search()__ searches for the whole string even if the string contains multi-lines and tries to find a match of the substring in all the lines of string"
   ]
  },
  {
   "cell_type": "code",
   "execution_count": 1,
   "id": "2e519108",
   "metadata": {},
   "outputs": [
    {
     "name": "stdout",
     "output_type": "stream",
     "text": [
      "<re.Match object; span=(61, 67), match='string'>\n",
      "None\n",
      "<re.Match object; span=(0, 6), match='string'>\n",
      "<re.Match object; span=(0, 6), match='string'>\n"
     ]
    }
   ],
   "source": [
    "import re\n",
    "Substring ='string' \n",
    "String1 ='We are learning regex with iNeuron. Regex is very useful for string matching. It is fast too.' \n",
    "String2 ='string We are learning regex with iNeuron. Regex is very useful for string matching. It is fast too.'\n",
    "print(re.search(Substring, String1, re.IGNORECASE))\n",
    "print(re.match(Substring, String1, re.IGNORECASE))\n",
    "print(re.search(Substring, String2, re.IGNORECASE))\n",
    "print(re.match(Substring, String2, re.IGNORECASE))"
   ]
  },
  {
   "cell_type": "markdown",
   "id": "e14fced9",
   "metadata": {},
   "source": [
    "\n",
    "__Q7. What is the difference between using a vertical bar (|) as an alteration and using square brackets\n",
    "as a character set?__\n"
   ]
  },
  {
   "cell_type": "markdown",
   "id": "60ed8576",
   "metadata": {},
   "source": [
    "__Ans:__ When __|__ us used then patterns searches for __or__ option. i.e __<_pattern_1>|<_pattern_2>__ means it searches as __<_pattern_1>or<_pattern_2>__ in the searched string. The first occurance of matched string will be returned as the Match Object. Using Character set in square Brackets searches for all the character set in the square bracket and if match is found, it returns it."
   ]
  },
  {
   "cell_type": "code",
   "execution_count": 3,
   "id": "5545e91f",
   "metadata": {},
   "outputs": [],
   "source": [
    "#For example\n",
    "#[p – t] = [ pqrst ]\n",
    "#For example, (x|y|z)ab match by any string-like, x, y, z, a, b."
   ]
  },
  {
   "cell_type": "markdown",
   "id": "cda68393",
   "metadata": {},
   "source": [
    "\n",
    "__Q8. In regular-expression search patterns, why is it necessary to use the raw-string indicator (r)? In  \n",
    "replacement strings?__"
   ]
  },
  {
   "cell_type": "markdown",
   "id": "b09e48ff",
   "metadata": {},
   "source": [
    "__Ans:__ Raw Strings are used in the regular-expression search patterns, so that backslash do not have to be escaped. When one wants to match a literal backslash, it must be escaped in the regular expression. With raw string notation, this means r\"\\\". Without raw string notation, one must use 4 times back slashes"
   ]
  },
  {
   "cell_type": "code",
   "execution_count": null,
   "id": "18cd88b1",
   "metadata": {},
   "outputs": [],
   "source": []
  }
 ],
 "metadata": {
  "kernelspec": {
   "display_name": "Python 3 (ipykernel)",
   "language": "python",
   "name": "python3"
  },
  "language_info": {
   "codemirror_mode": {
    "name": "ipython",
    "version": 3
   },
   "file_extension": ".py",
   "mimetype": "text/x-python",
   "name": "python",
   "nbconvert_exporter": "python",
   "pygments_lexer": "ipython3",
   "version": "3.10.9"
  }
 },
 "nbformat": 4,
 "nbformat_minor": 5
}
