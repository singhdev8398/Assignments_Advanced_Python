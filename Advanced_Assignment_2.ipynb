{
 "cells": [
  {
   "cell_type": "markdown",
   "id": "71e32c06",
   "metadata": {},
   "source": [
    "# Q1. What is the relationship between classes and modules?\n",
    "\n"
   ]
  },
  {
   "cell_type": "markdown",
   "id": "bebac443",
   "metadata": {},
   "source": [
    "# Ans-\n",
    "Modules are collections of methods and constants. They cannot generate instances.\n",
    "\n",
    "Classes may generate instances (objects), and have per-instance state (instance variables)."
   ]
  },
  {
   "cell_type": "markdown",
   "id": "25f20ec5",
   "metadata": {},
   "source": [
    "# Q2. How do you make instances and classes?\n",
    "\n"
   ]
  },
  {
   "cell_type": "markdown",
   "id": "aa1db655",
   "metadata": {},
   "source": [
    "# Ans-\n",
    "The class statement creates a new class definition. The name of the class immediately follows the keyword class followed by a colon as follows −"
   ]
  },
  {
   "cell_type": "code",
   "execution_count": 6,
   "id": "18949d85",
   "metadata": {},
   "outputs": [],
   "source": [
    "class Employee:\n",
    "    'Common base class for all employees'\n",
    "    empCount = 0\n",
    "\n",
    "    def __init__(self, name, salary):\n",
    "        self.name = name\n",
    "        self.salary = salary\n",
    "        Employee.empCount += 1\n",
    "   \n",
    "    def displayCount(self):\n",
    "        print (\"Total Employee %d\" % Employee.empCount)\n",
    "    def displayEmployee(self):\n",
    "        print (\"Name : \", self.name,  \", Salary: \", self.salary)"
   ]
  },
  {
   "cell_type": "markdown",
   "id": "7b16c492",
   "metadata": {},
   "source": [
    "# Creating Instance Objects\n",
    "\n",
    "To create instances of a class, you call the class using class name and pass in whatever arguments its __init__ method accepts.\n",
    "\n"
   ]
  },
  {
   "cell_type": "code",
   "execution_count": 7,
   "id": "ecb5aa8f",
   "metadata": {},
   "outputs": [],
   "source": [
    "\"This would create first object of Employee class\"\n",
    "emp1 = Employee(\"Zara\", 2000)\n",
    "\"This would create second object of Employee class\"\n",
    "emp2 = Employee(\"Manni\", 5000)"
   ]
  },
  {
   "cell_type": "markdown",
   "id": "411b842f",
   "metadata": {},
   "source": [
    "# Q3. Where and how should be class attributes created?\n",
    "\n"
   ]
  },
  {
   "cell_type": "markdown",
   "id": "f89ba92a",
   "metadata": {},
   "source": [
    "# Ans-\n",
    "Class attributes in Python should be created directly within the class body but outside of any methods. They are defined at the class level and are shared by all instances of the class. Class attributes are accessible through both the class itself and its instances."
   ]
  },
  {
   "cell_type": "code",
   "execution_count": 9,
   "id": "eee743bc",
   "metadata": {},
   "outputs": [
    {
     "name": "stdout",
     "output_type": "stream",
     "text": [
      "This is a class attribute\n",
      "This is a class attribute\n",
      "This is a class attribute\n"
     ]
    }
   ],
   "source": [
    "class MyClass:\n",
    "    class_attribute = \"This is a class attribute\"\n",
    "\n",
    "    def __init__(self, instance_attribute):\n",
    "        self.instance_attribute = instance_attribute\n",
    "\n",
    "my_object1 = MyClass(\"Instance 1\")\n",
    "my_object2 = MyClass(\"Instance 2\")\n",
    "\n",
    "print(MyClass.class_attribute)         # Accessing class attribute through class\n",
    "print(my_object1.class_attribute)      # Accessing class attribute through instance\n",
    "print(my_object2.class_attribute)      # Accessing class attribute through instance\n"
   ]
  },
  {
   "cell_type": "markdown",
   "id": "8c6cfc44",
   "metadata": {},
   "source": [
    "# Q4. Where and how are instance attributes created?\n",
    "\n"
   ]
  },
  {
   "cell_type": "markdown",
   "id": "826cd52c",
   "metadata": {},
   "source": [
    "# Ans-\n",
    "An instance attribute is a Python variable belonging to one, and only one, object. This variable is only accessible in the scope of this object, and it's defined inside the constructor function, __init__(self,..) of the class."
   ]
  },
  {
   "cell_type": "code",
   "execution_count": 10,
   "id": "42705efe",
   "metadata": {},
   "outputs": [],
   "source": [
    "class MyClass:\n",
    "    class_attribute = \"This is a class attribute\"\n",
    "\n",
    "    def __init__(self, instance_attribute):  #instance attribute always create in cunstructor \n",
    "        self.instance_attribute = instance_attribute\n",
    "\n",
    "my_object1 = MyClass(\"Instance 1\")\n",
    "my_object2 = MyClass(\"Instance 2\")"
   ]
  },
  {
   "cell_type": "markdown",
   "id": "2fb8ab06",
   "metadata": {},
   "source": [
    "# Q5. What does the term &quot;self&quot; in a Python class mean?\n",
    "\n"
   ]
  },
  {
   "cell_type": "markdown",
   "id": "40e52d87",
   "metadata": {},
   "source": [
    "# Ans-\n",
    "The self parameter is a reference to the current instance of the class, and is used to access variables that belongs to the class."
   ]
  },
  {
   "cell_type": "code",
   "execution_count": 11,
   "id": "747ce9b2",
   "metadata": {},
   "outputs": [
    {
     "name": "stdout",
     "output_type": "stream",
     "text": [
      "Address of self =  2212451389152\n",
      "Address of class object =  2212451389152\n"
     ]
    }
   ],
   "source": [
    "#it is clearly seen that self and obj is referring to the same object\n",
    "  \n",
    "class check:\n",
    "    def __init__(self):\n",
    "        print(\"Address of self = \",id(self))\n",
    "  \n",
    "obj = check()\n",
    "print(\"Address of class object = \",id(obj))\n",
    "  \n",
    "# this code is Contributed by Samyak Jain"
   ]
  },
  {
   "cell_type": "markdown",
   "id": "c25f9885",
   "metadata": {},
   "source": [
    "# Q6. How does a Python class handle operator overloading?\n",
    "\n"
   ]
  },
  {
   "cell_type": "markdown",
   "id": "2af7fc6c",
   "metadata": {},
   "source": [
    "# Ans-\n",
    "In Python, operator overloading allows you to define the behavior of operators such as +, -, *, /, ==, <, >, and many more for objects of your custom classes. By implementing special methods (also called magic methods or dunder methods), you can define how operators should behave when applied to instances of your class.\n",
    "\n",
    "Here are some common special methods used for operator overloading in Python:\n",
    "\n",
    "___init___(self): This is the constructor method that initializes an object. It is called when the object is created.\n",
    "\n",
    "__str__(self): This method returns a string representation of the object and is used by the built-in str() function and the print() statement.\n",
    "\n",
    "__eq__(self, other): This method defines the behavior of the equality operator (==). It determines whether two objects are equal and returns a Boolean value.\n",
    "\n",
    "__lt__(self, other): This method defines the behavior of the less than operator (<). It determines whether one object is less than another and returns a Boolean value.\n",
    "\n",
    "__add__(self, other): This method defines the behavior of the addition operator (+). It specifies how to add two objects together and returns the result.\n",
    "\n",
    "__sub__(self, other): This method defines the behavior of the subtraction operator (-). It specifies how to subtract one object from another and returns the result.\n",
    "\n",
    "__mul__(self, other): This method defines the behavior of the multiplication operator (*). It specifies how to multiply two objects together and returns the result.\n",
    "\n",
    "__div__(self, other): This method defines the behavior of the division operator (/). It specifies how to divide one object by another and returns the result."
   ]
  },
  {
   "cell_type": "code",
   "execution_count": 12,
   "id": "b317959b",
   "metadata": {},
   "outputs": [
    {
     "name": "stdout",
     "output_type": "stream",
     "text": [
      "Point(6, 8)\n",
      "False\n"
     ]
    }
   ],
   "source": [
    "class Point:\n",
    "    def __init__(self, x, y):\n",
    "        self.x = x\n",
    "        self.y = y\n",
    "    \n",
    "    def __str__(self):\n",
    "        return f\"Point({self.x}, {self.y})\"\n",
    "\n",
    "    def __eq__(self, other):\n",
    "        return self.x == other.x and self.y == other.y\n",
    "    \n",
    "    def __add__(self, other):\n",
    "        return Point(self.x + other.x, self.y + other.y)\n",
    "\n",
    "# Creating instances of the Point class\n",
    "p1 = Point(2, 3)\n",
    "p2 = Point(4, 5)\n",
    "\n",
    "# Using operator overloading\n",
    "print(p1 + p2)       # Output: Point(6, 8)\n",
    "print(p1 == p2)      # Output: False\n"
   ]
  },
  {
   "cell_type": "markdown",
   "id": "0accc62a",
   "metadata": {},
   "source": [
    "# Q7. When do you consider allowing operator overloading of your classes?\n",
    "\n"
   ]
  },
  {
   "cell_type": "markdown",
   "id": "82e7f170",
   "metadata": {},
   "source": [
    "# Ans-\n",
    "Consider that we have two objects which are a physical representation of a class (user-defined data type) and we have to add two objects with binary ‘+’ operator it throws an error, because compiler don’t know how to add two objects. So we define a method for an operator and that process is called operator overloading."
   ]
  },
  {
   "cell_type": "code",
   "execution_count": 13,
   "id": "cf251157",
   "metadata": {},
   "outputs": [
    {
     "name": "stdout",
     "output_type": "stream",
     "text": [
      "3\n",
      "GeeksFor\n",
      "3\n",
      "GeeksFor\n",
      "3\n",
      "GeeksFor\n"
     ]
    }
   ],
   "source": [
    "# Python Program illustrate how\n",
    "# to overload an binary + operator\n",
    "# And how it actually works\n",
    " \n",
    "class A:\n",
    "    def __init__(self, a):\n",
    "        self.a = a\n",
    " \n",
    "    # adding two objects\n",
    "    def __add__(self, o):\n",
    "        return self.a + o.a\n",
    "ob1 = A(1)\n",
    "ob2 = A(2)\n",
    "ob3 = A(\"Geeks\")\n",
    "ob4 = A(\"For\")\n",
    " \n",
    "print(ob1 + ob2)\n",
    "print(ob3 + ob4)\n",
    "# Actual working when Binary Operator is used.\n",
    "print(A.__add__(ob1 , ob2))\n",
    "print(A.__add__(ob3,ob4))\n",
    "#And can also be Understand as :\n",
    "print(ob1.__add__(ob2))\n",
    "print(ob3.__add__(ob4))"
   ]
  },
  {
   "cell_type": "markdown",
   "id": "341fc4af",
   "metadata": {},
   "source": [
    "# Q8. What is the most popular form of operator overloading?\n",
    "\n"
   ]
  },
  {
   "cell_type": "markdown",
   "id": "4f8a263c",
   "metadata": {},
   "source": [
    "# Ans-\n",
    "The most frequent instance is the adding up operator '+', where it can be used for the usual addition and also for combining two different strings."
   ]
  },
  {
   "cell_type": "markdown",
   "id": "5bc255e9",
   "metadata": {},
   "source": [
    "# Q9. What are the two most important concepts to grasp in order to comprehend Python OOP code?"
   ]
  },
  {
   "cell_type": "markdown",
   "id": "924bdb03",
   "metadata": {},
   "source": [
    "# Ans-\n",
    "To comprehend Python Object-Oriented Programming (OOP) code effectively, two important concepts to grasp are:\n",
    "\n",
    "1. Classes and Objects\n",
    "\n",
    "2. Both inheritance and polymorphism are fundamental concepts of object oriented programming.\n"
   ]
  },
  {
   "cell_type": "code",
   "execution_count": null,
   "id": "3304a72f",
   "metadata": {},
   "outputs": [],
   "source": []
  }
 ],
 "metadata": {
  "kernelspec": {
   "display_name": "Python 3 (ipykernel)",
   "language": "python",
   "name": "python3"
  },
  "language_info": {
   "codemirror_mode": {
    "name": "ipython",
    "version": 3
   },
   "file_extension": ".py",
   "mimetype": "text/x-python",
   "name": "python",
   "nbconvert_exporter": "python",
   "pygments_lexer": "ipython3",
   "version": "3.10.9"
  }
 },
 "nbformat": 4,
 "nbformat_minor": 5
}
