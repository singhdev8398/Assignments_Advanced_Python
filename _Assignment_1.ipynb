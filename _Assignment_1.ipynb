{
 "cells": [
  {
   "cell_type": "markdown",
   "id": "4650784d",
   "metadata": {},
   "source": [
    "# Q1. What is the purpose of Python's OOP?"
   ]
  },
  {
   "cell_type": "markdown",
   "id": "9a966cc9",
   "metadata": {},
   "source": [
    "# Ans-\n",
    "Object-oriented programming (OOP) is a way of thinking about and organizing code for maximum reusability. With this type of programming, a program comprises objects that can interact with the user, other objects, or other programs. "
   ]
  },
  {
   "cell_type": "markdown",
   "id": "4d917902",
   "metadata": {},
   "source": [
    "# Q2. Where does an inheritance search look for an attribute?"
   ]
  },
  {
   "cell_type": "markdown",
   "id": "7cd1949a",
   "metadata": {},
   "source": [
    "# Ans-\n",
    " An inheritance search looks for an attribute first in the instance object, then in the class the instance was created from, then in all higher superclasses, progressing from left to right (by default). The search stops at the first place the attribute is found.. "
   ]
  },
  {
   "cell_type": "markdown",
   "id": "11d4eab5",
   "metadata": {},
   "source": [
    "# Q3. How do you distinguish between a class object and an instance object?"
   ]
  },
  {
   "cell_type": "markdown",
   "id": "ca9b73ec",
   "metadata": {},
   "source": [
    "# Ans-\n",
    "Classes are a kind of factory for creating multiple instances. Classes also support operator overloading methods, which instances inherit, and treat any functions nested in the class as methods for processing instances."
   ]
  },
  {
   "cell_type": "markdown",
   "id": "3aa3076b",
   "metadata": {},
   "source": [
    "# Q4. What makes the first argument in a class’s method function special?"
   ]
  },
  {
   "cell_type": "markdown",
   "id": "6e51926d",
   "metadata": {},
   "source": [
    "# Ans-\n",
    "It always receives the instance object that is the implied subject of the method call. It’s usually called ‘self’ by convention."
   ]
  },
  {
   "cell_type": "markdown",
   "id": "fd34034c",
   "metadata": {},
   "source": [
    "# Q5. What is the purpose of the __init__ method?"
   ]
  },
  {
   "cell_type": "markdown",
   "id": "21924bce",
   "metadata": {},
   "source": [
    "# Ans-\n",
    "In Python, __init__ is a special method known as the constructor. It is automatically called when a new instance (object) of a class is created. \n",
    "\n",
    "The __init__ method allows you to initialize the attributes (variables) of an object."
   ]
  },
  {
   "cell_type": "code",
   "execution_count": 1,
   "id": "c435b3d0",
   "metadata": {},
   "outputs": [],
   "source": [
    "class New():\n",
    "  def __init__(self, arg1, arg2):\n",
    "    self.first_var = arg1\n",
    "    self.second_var = arg2"
   ]
  },
  {
   "cell_type": "markdown",
   "id": "47cec655",
   "metadata": {},
   "source": [
    "# Q6. What is the process for creating a class instance?"
   ]
  },
  {
   "cell_type": "markdown",
   "id": "fcd32a1d",
   "metadata": {},
   "source": [
    "# Ans-\n",
    "You create a class instance by calling the class name as though it were a function.\n",
    "\n",
    "any arguments passed into the class name show up as arguments two and beyond in the __init__ constructor method."
   ]
  },
  {
   "cell_type": "code",
   "execution_count": 2,
   "id": "04ab743e",
   "metadata": {},
   "outputs": [],
   "source": [
    "class ClassName:\n",
    "    pass\n",
    "\n",
    "x=ClassName()"
   ]
  },
  {
   "cell_type": "code",
   "execution_count": 11,
   "id": "9eb564a4",
   "metadata": {},
   "outputs": [
    {
     "name": "stdout",
     "output_type": "stream",
     "text": [
      "John\n",
      "36\n"
     ]
    }
   ],
   "source": [
    "class Person:\n",
    "    def __init__(self, name, age):\n",
    "        self.name = name\n",
    "        self.age = age\n",
    "\n",
    "p1 = Person(\"John\", 36)\n",
    "\n",
    "print(p1.name)\n",
    "print(p1.age)"
   ]
  },
  {
   "cell_type": "markdown",
   "id": "453e72fc",
   "metadata": {},
   "source": [
    "# Q7. What is the process for creating a class?"
   ]
  },
  {
   "cell_type": "code",
   "execution_count": 13,
   "id": "95d009a0",
   "metadata": {},
   "outputs": [],
   "source": [
    "class ClassName():\n",
    "    pass\n",
    "  #some code here"
   ]
  },
  {
   "cell_type": "markdown",
   "id": "8bf74d09",
   "metadata": {},
   "source": [
    "# Q8. How would you define the superclasses of a class?"
   ]
  },
  {
   "cell_type": "markdown",
   "id": "2871fb81",
   "metadata": {},
   "source": [
    "# Ans-\n",
    "They are classes which are used to inherit from.\n",
    "\n",
    "class Freelance(Emp):\n",
    "\n",
    "In this case Emp is superclasses for Freelance subclass."
   ]
  },
  {
   "cell_type": "code",
   "execution_count": 15,
   "id": "60b74459",
   "metadata": {},
   "outputs": [
    {
     "name": "stdout",
     "output_type": "stream",
     "text": [
      "The ID is: 103\n",
      "The Name is: Suraj kr gupta\n",
      "The Address is: Noida\n",
      "The Emails is: KKK@gmails\n"
     ]
    }
   ],
   "source": [
    "class Emp():\n",
    "    def __init__(self, id, name, Add):\n",
    "        self.id = id\n",
    "        self.name = name\n",
    "        self.Add = Add\n",
    " \n",
    "#Class freelancer inherits EMP\n",
    "class Freelance(Emp):\n",
    "    def __init__(self, id, name, Add, Emails):\n",
    "        super().__init__(id, name, Add)\n",
    "        self.Emails = Emails\n",
    " \n",
    "Emp_1 = Freelance(103, \"Suraj kr gupta\", \"Noida\" , \"KKK@gmails\")\n",
    "print('The ID is:', Emp_1.id)\n",
    "print('The Name is:', Emp_1.name)\n",
    "print('The Address is:', Emp_1.Add)\n",
    "print('The Emails is:', Emp_1.Emails)\n",
    "    "
   ]
  },
  {
   "cell_type": "code",
   "execution_count": null,
   "id": "bcef3467",
   "metadata": {},
   "outputs": [],
   "source": []
  }
 ],
 "metadata": {
  "kernelspec": {
   "display_name": "Python 3 (ipykernel)",
   "language": "python",
   "name": "python3"
  },
  "language_info": {
   "codemirror_mode": {
    "name": "ipython",
    "version": 3
   },
   "file_extension": ".py",
   "mimetype": "text/x-python",
   "name": "python",
   "nbconvert_exporter": "python",
   "pygments_lexer": "ipython3",
   "version": "3.10.9"
  }
 },
 "nbformat": 4,
 "nbformat_minor": 5
}
