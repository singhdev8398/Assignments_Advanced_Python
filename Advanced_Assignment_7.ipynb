{
 "cells": [
  {
   "cell_type": "markdown",
   "id": "bf85f19b",
   "metadata": {},
   "source": [
    "# Q1. What is the purpose of the try statement?\n",
    "\n"
   ]
  },
  {
   "cell_type": "markdown",
   "id": "ef55958c",
   "metadata": {},
   "source": [
    "# Ans:\n",
    "try statement is used for exception handling in python. It consists of a block of risky statements which might cause an exception during runtime. If code within try block raises exception, then the exception will be reverted to the corresponding except block when multiple except blocks are present, else it will be reverted to the default except block. In short, try and except in union avoid programs from crashing during runtime due to exceptions."
   ]
  },
  {
   "cell_type": "code",
   "execution_count": 1,
   "id": "a2b30bbb",
   "metadata": {},
   "outputs": [
    {
     "name": "stdout",
     "output_type": "stream",
     "text": [
      "Division by Zero is Not Possible\n"
     ]
    }
   ],
   "source": [
    "try:\n",
    "    print(30/0)\n",
    "except ZeroDivisionError:\n",
    "    print('Division by Zero is Not Possible')"
   ]
  },
  {
   "cell_type": "markdown",
   "id": "65b47c5d",
   "metadata": {},
   "source": [
    "# Q2. What are the two most popular try statement variations?\n",
    "\n"
   ]
  },
  {
   "cell_type": "markdown",
   "id": "f637bce8",
   "metadata": {},
   "source": [
    "# Ans:\n",
    "The Popular try statement variations are:\n",
    "\n",
    "1. try,except\n",
    "2. try,except,finally\n",
    "3. try,except,finally,else\n",
    "\n",
    "The try block is used to check code for exceptions during runtime. i.e. code inside try block will execute completely when there is no error in the program where as the code inside except block will execute whenever the program encounters some error in the preceeding try block.\n",
    "\n",
    "Where as the code enters the else block if and only if the try clause does not raise an exception. The code in the finally block will execute irrespective of exception."
   ]
  },
  {
   "cell_type": "markdown",
   "id": "6e7ba110",
   "metadata": {},
   "source": [
    "# Q3. What is the purpose of the raise statement?\n",
    "\n"
   ]
  },
  {
   "cell_type": "markdown",
   "id": "0ba6e3a6",
   "metadata": {},
   "source": [
    "# Ans:\n",
    "raise statement is used to trigger an exception explicitly, if a certain condition is not as per requirement of programmer. raise statement helps in triggering exception as per programming logic."
   ]
  },
  {
   "cell_type": "markdown",
   "id": "bc030ffa",
   "metadata": {},
   "source": [
    "# Q4. What does the assert statement do, and what other statement is it like?\n",
    "\n"
   ]
  },
  {
   "cell_type": "markdown",
   "id": "db4c1491",
   "metadata": {},
   "source": [
    "# Ans:\n",
    "There are few assertions that programmer always want to be true to avoid code failure. This type of requirement is fulfilled by assert statement. This statement takes a boolean condition output of which is True which in turn helps Further Program Execute. If output of assert statement is False, it raises an Assertion Error."
   ]
  },
  {
   "cell_type": "code",
   "execution_count": 2,
   "id": "512593eb",
   "metadata": {},
   "outputs": [
    {
     "ename": "AssertionError",
     "evalue": "this is not a valid statement",
     "output_type": "error",
     "traceback": [
      "\u001b[1;31m---------------------------------------------------------------------------\u001b[0m",
      "\u001b[1;31mAssertionError\u001b[0m                            Traceback (most recent call last)",
      "Cell \u001b[1;32mIn[2], line 1\u001b[0m\n\u001b[1;32m----> 1\u001b[0m \u001b[38;5;28;01massert\u001b[39;00m(\u001b[38;5;241m2\u001b[39m \u001b[38;5;241m==\u001b[39m \u001b[38;5;241m10\u001b[39m), \u001b[38;5;124mf\u001b[39m\u001b[38;5;124m'\u001b[39m\u001b[38;5;124mthis is not a valid statement\u001b[39m\u001b[38;5;124m'\u001b[39m\n",
      "\u001b[1;31mAssertionError\u001b[0m: this is not a valid statement"
     ]
    }
   ],
   "source": [
    "assert(2 == 10), f'this is not a valid statement'"
   ]
  },
  {
   "cell_type": "markdown",
   "id": "4a332243",
   "metadata": {},
   "source": [
    "# Q5. What is the purpose of the with/as argument, and what other statement is it like?"
   ]
  },
  {
   "cell_type": "markdown",
   "id": "8650fe49",
   "metadata": {},
   "source": [
    "# Ans:\n",
    "with/as statement simplifies use of file handling in python. When we use a with statement for file reading, there is no need for programmer to explicitly take care of activities like resource deallocation and file closing by using file.close() method. with statement itself ensures proper acquisition and release of resources. This avoids triggering of exceptions if the file closing is unknowingly forgotten in the code execution."
   ]
  },
  {
   "cell_type": "code",
   "execution_count": 3,
   "id": "fa2ed276",
   "metadata": {},
   "outputs": [],
   "source": [
    "with open('sample_file.txt','w') as file: file.write('Hello World')"
   ]
  },
  {
   "cell_type": "code",
   "execution_count": null,
   "id": "5452ba5b",
   "metadata": {},
   "outputs": [],
   "source": []
  }
 ],
 "metadata": {
  "kernelspec": {
   "display_name": "Python 3 (ipykernel)",
   "language": "python",
   "name": "python3"
  },
  "language_info": {
   "codemirror_mode": {
    "name": "ipython",
    "version": 3
   },
   "file_extension": ".py",
   "mimetype": "text/x-python",
   "name": "python",
   "nbconvert_exporter": "python",
   "pygments_lexer": "ipython3",
   "version": "3.10.9"
  }
 },
 "nbformat": 4,
 "nbformat_minor": 5
}
